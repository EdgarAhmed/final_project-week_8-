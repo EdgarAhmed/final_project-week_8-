{
 "cells": [
  {
   "cell_type": "code",
   "execution_count": 2,
   "metadata": {},
   "outputs": [],
   "source": [
    "import pandas as pd"
   ]
  },
  {
   "cell_type": "code",
   "execution_count": 3,
   "metadata": {},
   "outputs": [
    {
     "data": {
      "text/html": [
       "<div>\n",
       "<style scoped>\n",
       "    .dataframe tbody tr th:only-of-type {\n",
       "        vertical-align: middle;\n",
       "    }\n",
       "\n",
       "    .dataframe tbody tr th {\n",
       "        vertical-align: top;\n",
       "    }\n",
       "\n",
       "    .dataframe thead th {\n",
       "        text-align: right;\n",
       "    }\n",
       "</style>\n",
       "<table border=\"1\" class=\"dataframe\">\n",
       "  <thead>\n",
       "    <tr style=\"text-align: right;\">\n",
       "      <th></th>\n",
       "      <th>id</th>\n",
       "      <th>name</th>\n",
       "      <th>type</th>\n",
       "      <th>reason</th>\n",
       "      <th>team</th>\n",
       "      <th>fixture</th>\n",
       "      <th>league</th>\n",
       "    </tr>\n",
       "  </thead>\n",
       "  <tbody>\n",
       "    <tr>\n",
       "      <th>0</th>\n",
       "      <td>642</td>\n",
       "      <td>S. Aguero</td>\n",
       "      <td>Missing Fixture</td>\n",
       "      <td>Calf Injury</td>\n",
       "      <td>Barcelona</td>\n",
       "      <td>2021-08-21T20:00:00+00:00</td>\n",
       "      <td>La Liga</td>\n",
       "    </tr>\n",
       "    <tr>\n",
       "      <th>1</th>\n",
       "      <td>147</td>\n",
       "      <td>Coutinho</td>\n",
       "      <td>Missing Fixture</td>\n",
       "      <td>Lacking Match Fitness</td>\n",
       "      <td>Barcelona</td>\n",
       "      <td>2021-08-21T20:00:00+00:00</td>\n",
       "      <td>La Liga</td>\n",
       "    </tr>\n",
       "    <tr>\n",
       "      <th>2</th>\n",
       "      <td>153</td>\n",
       "      <td>O. Dembele</td>\n",
       "      <td>Missing Fixture</td>\n",
       "      <td>Knee Injury</td>\n",
       "      <td>Barcelona</td>\n",
       "      <td>2021-08-21T20:00:00+00:00</td>\n",
       "      <td>La Liga</td>\n",
       "    </tr>\n",
       "    <tr>\n",
       "      <th>3</th>\n",
       "      <td>135775</td>\n",
       "      <td>A. Fati</td>\n",
       "      <td>Missing Fixture</td>\n",
       "      <td>Knee Injury</td>\n",
       "      <td>Barcelona</td>\n",
       "      <td>2021-08-21T20:00:00+00:00</td>\n",
       "      <td>La Liga</td>\n",
       "    </tr>\n",
       "    <tr>\n",
       "      <th>4</th>\n",
       "      <td>162712</td>\n",
       "      <td>O. Mingueza</td>\n",
       "      <td>Missing Fixture</td>\n",
       "      <td>Muscle Injury</td>\n",
       "      <td>Barcelona</td>\n",
       "      <td>2021-08-21T20:00:00+00:00</td>\n",
       "      <td>La Liga</td>\n",
       "    </tr>\n",
       "    <tr>\n",
       "      <th>...</th>\n",
       "      <td>...</td>\n",
       "      <td>...</td>\n",
       "      <td>...</td>\n",
       "      <td>...</td>\n",
       "      <td>...</td>\n",
       "      <td>...</td>\n",
       "      <td>...</td>\n",
       "    </tr>\n",
       "    <tr>\n",
       "      <th>313</th>\n",
       "      <td>619</td>\n",
       "      <td>E. Garcia</td>\n",
       "      <td>Missing Fixture</td>\n",
       "      <td>Injury</td>\n",
       "      <td>Barcelona</td>\n",
       "      <td>2022-05-22T20:00:00+00:00</td>\n",
       "      <td>La Liga</td>\n",
       "    </tr>\n",
       "    <tr>\n",
       "      <th>314</th>\n",
       "      <td>161933</td>\n",
       "      <td>Nico</td>\n",
       "      <td>Missing Fixture</td>\n",
       "      <td>Leg Injury</td>\n",
       "      <td>Barcelona</td>\n",
       "      <td>2022-05-22T20:00:00+00:00</td>\n",
       "      <td>La Liga</td>\n",
       "    </tr>\n",
       "    <tr>\n",
       "      <th>315</th>\n",
       "      <td>133609</td>\n",
       "      <td>Pedri</td>\n",
       "      <td>Missing Fixture</td>\n",
       "      <td>Thigh Injury</td>\n",
       "      <td>Barcelona</td>\n",
       "      <td>2022-05-22T20:00:00+00:00</td>\n",
       "      <td>La Liga</td>\n",
       "    </tr>\n",
       "    <tr>\n",
       "      <th>316</th>\n",
       "      <td>136</td>\n",
       "      <td>G. Pique</td>\n",
       "      <td>Missing Fixture</td>\n",
       "      <td>Groin Injury</td>\n",
       "      <td>Barcelona</td>\n",
       "      <td>2022-05-22T20:00:00+00:00</td>\n",
       "      <td>La Liga</td>\n",
       "    </tr>\n",
       "    <tr>\n",
       "      <th>317</th>\n",
       "      <td>137</td>\n",
       "      <td>S. Roberto</td>\n",
       "      <td>Missing Fixture</td>\n",
       "      <td>Lacking Match Fitness</td>\n",
       "      <td>Barcelona</td>\n",
       "      <td>2022-05-22T20:00:00+00:00</td>\n",
       "      <td>La Liga</td>\n",
       "    </tr>\n",
       "  </tbody>\n",
       "</table>\n",
       "<p>318 rows × 7 columns</p>\n",
       "</div>"
      ],
      "text/plain": [
       "         id         name             type                 reason       team  \\\n",
       "0       642    S. Aguero  Missing Fixture            Calf Injury  Barcelona   \n",
       "1       147     Coutinho  Missing Fixture  Lacking Match Fitness  Barcelona   \n",
       "2       153   O. Dembele  Missing Fixture            Knee Injury  Barcelona   \n",
       "3    135775      A. Fati  Missing Fixture            Knee Injury  Barcelona   \n",
       "4    162712  O. Mingueza  Missing Fixture          Muscle Injury  Barcelona   \n",
       "..      ...          ...              ...                    ...        ...   \n",
       "313     619    E. Garcia  Missing Fixture                 Injury  Barcelona   \n",
       "314  161933         Nico  Missing Fixture             Leg Injury  Barcelona   \n",
       "315  133609        Pedri  Missing Fixture           Thigh Injury  Barcelona   \n",
       "316     136     G. Pique  Missing Fixture           Groin Injury  Barcelona   \n",
       "317     137   S. Roberto  Missing Fixture  Lacking Match Fitness  Barcelona   \n",
       "\n",
       "                       fixture   league  \n",
       "0    2021-08-21T20:00:00+00:00  La Liga  \n",
       "1    2021-08-21T20:00:00+00:00  La Liga  \n",
       "2    2021-08-21T20:00:00+00:00  La Liga  \n",
       "3    2021-08-21T20:00:00+00:00  La Liga  \n",
       "4    2021-08-21T20:00:00+00:00  La Liga  \n",
       "..                         ...      ...  \n",
       "313  2022-05-22T20:00:00+00:00  La Liga  \n",
       "314  2022-05-22T20:00:00+00:00  La Liga  \n",
       "315  2022-05-22T20:00:00+00:00  La Liga  \n",
       "316  2022-05-22T20:00:00+00:00  La Liga  \n",
       "317  2022-05-22T20:00:00+00:00  La Liga  \n",
       "\n",
       "[318 rows x 7 columns]"
      ]
     },
     "execution_count": 3,
     "metadata": {},
     "output_type": "execute_result"
    }
   ],
   "source": [
    "pd.set_option('display.max_rows', 10)\n",
    "\n",
    "lesionados_2021 = pd.read_csv('/Users/edgarahmed/Desktop/ironhack/semana_8/modelo predictivo/plantillas_lesionados_barsa_csv/lesionados_barsa_2021.csv')\n",
    "\n",
    "\n",
    "lesionados_2021"
   ]
  },
  {
   "cell_type": "code",
   "execution_count": null,
   "metadata": {},
   "outputs": [],
   "source": [
    "lesionados_2021 = lesionados_2021.rename(columns={'fixture': 'fechas_lesion'})\n",
    "\n",
    "lesionados_2021"
   ]
  },
  {
   "cell_type": "code",
   "execution_count": null,
   "metadata": {},
   "outputs": [],
   "source": [
    "lesionados_2021['fechas_lesion'] = lesionados_2021['fechas_lesion'].str.split('T').str[0]\n",
    "\n",
    "lesionados_2021"
   ]
  },
  {
   "cell_type": "code",
   "execution_count": null,
   "metadata": {},
   "outputs": [],
   "source": [
    "lesionados_2021.info()"
   ]
  },
  {
   "cell_type": "code",
   "execution_count": null,
   "metadata": {},
   "outputs": [],
   "source": [
    "lesionados_2021['fechas_lesion'] = pd.to_datetime(lesionados_2021['fechas_lesion'])\n",
    "\n",
    "lesionados_2021"
   ]
  },
  {
   "cell_type": "code",
   "execution_count": null,
   "metadata": {},
   "outputs": [],
   "source": [
    "lesionados_2021.sort_values(by=['id', 'fechas_lesion'], ascending=[False, False])"
   ]
  },
  {
   "cell_type": "code",
   "execution_count": null,
   "metadata": {},
   "outputs": [],
   "source": [
    "lesionados_2021['fechas_lesion'] = pd.to_datetime(lesionados_2021['fechas_lesion'])\n",
    "\n",
    "lesionados_2021"
   ]
  },
  {
   "cell_type": "code",
   "execution_count": null,
   "metadata": {},
   "outputs": [],
   "source": [
    "time_diff_per_id = lesionados_2021.groupby('id')['fechas_lesion'].agg(lambda x: x.max() - x.min())\n",
    "\n",
    "time_diff_per_id"
   ]
  },
  {
   "cell_type": "code",
   "execution_count": null,
   "metadata": {},
   "outputs": [],
   "source": [
    "lesionados_2021 = pd.merge(lesionados_2021, time_diff_per_id, on='id', how='left')\n",
    "\n",
    "lesionados_2021"
   ]
  },
  {
   "cell_type": "code",
   "execution_count": null,
   "metadata": {},
   "outputs": [],
   "source": [
    "lesionados_2021.sort_values(by=['id', 'fechas_lesion_x'], ascending=[False, False])"
   ]
  },
  {
   "cell_type": "code",
   "execution_count": null,
   "metadata": {},
   "outputs": [],
   "source": [
    "lesionados_2021['reason'].unique()"
   ]
  },
  {
   "cell_type": "code",
   "execution_count": null,
   "metadata": {},
   "outputs": [],
   "source": [
    "lesionados_2021 = lesionados_2021[~lesionados_2021['reason'].isin(['Yellow Cards', 'Red Card', 'Inactive', \"Coach's decision\" ])]\n",
    "\n",
    "lesionados_2021"
   ]
  },
  {
   "cell_type": "code",
   "execution_count": null,
   "metadata": {},
   "outputs": [],
   "source": [
    "lesionados_2021['league'].unique()  #a la mierda esta columna."
   ]
  },
  {
   "cell_type": "code",
   "execution_count": null,
   "metadata": {},
   "outputs": [],
   "source": [
    "lesionados_2021 = lesionados_2021.rename(columns={'fechas_lesion_x': 'fechas_lesion', 'fechas_lesion_y': 'tiempo_lesion'})\n",
    "\n",
    "lesionados_2021.reset_index(drop=True, inplace=True)\n",
    "\n",
    "lesionados_2021"
   ]
  },
  {
   "cell_type": "code",
   "execution_count": null,
   "metadata": {},
   "outputs": [],
   "source": [
    "lesionados_2021"
   ]
  },
  {
   "cell_type": "code",
   "execution_count": null,
   "metadata": {},
   "outputs": [],
   "source": [
    "a = lesionados_2021.drop_duplicates(subset='id', keep='first') #con esto me quedo solo con el primero de todos. No con todos los valores.\n",
    "\n",
    "a"
   ]
  },
  {
   "cell_type": "code",
   "execution_count": null,
   "metadata": {},
   "outputs": [],
   "source": [
    "lesionados_2021.sort_values(by=['id', 'fechas_lesion'], ascending=[False, False])"
   ]
  },
  {
   "cell_type": "code",
   "execution_count": null,
   "metadata": {},
   "outputs": [],
   "source": [
    "lesionados_2021.to_csv('/Users/edgarahmed/Desktop/ironhack/semana_8/modelo predictivo/plantillas_lesionados_barsa_csv/lesionados_bar_2021_limp.csv', index=False)\n"
   ]
  },
  {
   "cell_type": "markdown",
   "metadata": {},
   "source": [
    "## Lo de Yamcha\n"
   ]
  },
  {
   "cell_type": "code",
   "execution_count": null,
   "metadata": {},
   "outputs": [],
   "source": [
    "lesionados_2021.columns"
   ]
  },
  {
   "cell_type": "code",
   "execution_count": null,
   "metadata": {},
   "outputs": [],
   "source": [
    "df_alba = lesionados_2021[lesionados_2021[\"name\"]== \"Sergi\"].sort_values(['fechas_lesion'])\n",
    "\n",
    "df_alba"
   ]
  },
  {
   "cell_type": "code",
   "execution_count": null,
   "metadata": {},
   "outputs": [],
   "source": []
  },
  {
   "cell_type": "code",
   "execution_count": null,
   "metadata": {},
   "outputs": [],
   "source": []
  },
  {
   "cell_type": "code",
   "execution_count": null,
   "metadata": {},
   "outputs": [],
   "source": []
  },
  {
   "cell_type": "code",
   "execution_count": null,
   "metadata": {},
   "outputs": [],
   "source": [
    "df_alba[(df_alba[\"reason\"] != \"Illness\" ) & (df_alba[\"reason\"] != \"Yellow Cards\")]"
   ]
  },
  {
   "cell_type": "code",
   "execution_count": null,
   "metadata": {},
   "outputs": [],
   "source": [
    "\n"
   ]
  },
  {
   "cell_type": "code",
   "execution_count": null,
   "metadata": {},
   "outputs": [],
   "source": []
  },
  {
   "cell_type": "code",
   "execution_count": null,
   "metadata": {},
   "outputs": [],
   "source": []
  }
 ],
 "metadata": {
  "kernelspec": {
   "display_name": "clase",
   "language": "python",
   "name": "clase"
  },
  "language_info": {
   "codemirror_mode": {
    "name": "ipython",
    "version": 3
   },
   "file_extension": ".py",
   "mimetype": "text/x-python",
   "name": "python",
   "nbconvert_exporter": "python",
   "pygments_lexer": "ipython3",
   "version": "3.10.13"
  }
 },
 "nbformat": 4,
 "nbformat_minor": 2
}
